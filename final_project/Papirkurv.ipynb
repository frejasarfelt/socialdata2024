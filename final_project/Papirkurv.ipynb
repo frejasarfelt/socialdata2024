{
 "cells": [
  {
   "cell_type": "code",
   "execution_count": 4,
   "metadata": {},
   "outputs": [
    {
     "ename": "AttributeError",
     "evalue": "module 'shapely.geometry' has no attribute 'asShape'",
     "output_type": "error",
     "traceback": [
      "\u001b[0;31m---------------------------------------------------------------------------\u001b[0m",
      "\u001b[0;31mAttributeError\u001b[0m                            Traceback (most recent call last)",
      "\u001b[0;32m<ipython-input-4-b3dfba4c8df3>\u001b[0m in \u001b[0;36m<module>\u001b[0;34m\u001b[0m\n\u001b[1;32m     17\u001b[0m \u001b[0;31m# Extract areas and add them as polygons to the map\u001b[0m\u001b[0;34m\u001b[0m\u001b[0;34m\u001b[0m\u001b[0;34m\u001b[0m\u001b[0m\n\u001b[1;32m     18\u001b[0m \u001b[0;32mfor\u001b[0m \u001b[0mfeature\u001b[0m \u001b[0;32min\u001b[0m \u001b[0mdata\u001b[0m\u001b[0;34m[\u001b[0m\u001b[0;34m'features'\u001b[0m\u001b[0;34m]\u001b[0m\u001b[0;34m:\u001b[0m\u001b[0;34m\u001b[0m\u001b[0;34m\u001b[0m\u001b[0m\n\u001b[0;32m---> 19\u001b[0;31m     \u001b[0mgeometry\u001b[0m \u001b[0;34m=\u001b[0m \u001b[0msg\u001b[0m\u001b[0;34m.\u001b[0m\u001b[0masShape\u001b[0m\u001b[0;34m(\u001b[0m\u001b[0mfeature\u001b[0m\u001b[0;34m[\u001b[0m\u001b[0;34m'geometry'\u001b[0m\u001b[0;34m]\u001b[0m\u001b[0;34m)\u001b[0m\u001b[0;34m\u001b[0m\u001b[0;34m\u001b[0m\u001b[0m\n\u001b[0m\u001b[1;32m     20\u001b[0m     \u001b[0;32mif\u001b[0m \u001b[0mgeometry\u001b[0m\u001b[0;34m.\u001b[0m\u001b[0mgeom_type\u001b[0m \u001b[0;34m==\u001b[0m \u001b[0;34m'Polygon'\u001b[0m\u001b[0;34m:\u001b[0m\u001b[0;34m\u001b[0m\u001b[0;34m\u001b[0m\u001b[0m\n\u001b[1;32m     21\u001b[0m         \u001b[0mcoordinates\u001b[0m \u001b[0;34m=\u001b[0m \u001b[0;34m[\u001b[0m\u001b[0;34m[\u001b[0m\u001b[0mcoord\u001b[0m\u001b[0;34m[\u001b[0m\u001b[0;36m1\u001b[0m\u001b[0;34m]\u001b[0m\u001b[0;34m,\u001b[0m \u001b[0mcoord\u001b[0m\u001b[0;34m[\u001b[0m\u001b[0;36m0\u001b[0m\u001b[0;34m]\u001b[0m\u001b[0;34m]\u001b[0m \u001b[0;32mfor\u001b[0m \u001b[0mcoord\u001b[0m \u001b[0;32min\u001b[0m \u001b[0mgeometry\u001b[0m\u001b[0;34m.\u001b[0m\u001b[0mexterior\u001b[0m\u001b[0;34m.\u001b[0m\u001b[0mcoords\u001b[0m\u001b[0;34m[\u001b[0m\u001b[0;34m:\u001b[0m\u001b[0;34m]\u001b[0m\u001b[0;34m]\u001b[0m  \u001b[0;31m# Flipping coordinates\u001b[0m\u001b[0;34m\u001b[0m\u001b[0;34m\u001b[0m\u001b[0m\n",
      "\u001b[0;31mAttributeError\u001b[0m: module 'shapely.geometry' has no attribute 'asShape'"
     ]
    }
   ],
   "source": [
    "######## Green areas without playgrounds #####\n",
    "\n",
    "import json\n",
    "import folium\n",
    "import shapely.geometry as sg\n",
    "\n",
    "# Load the JSON data\n",
    "with open('arealanvendelse.json') as f:\n",
    "    data = json.load(f)\n",
    "\n",
    "# Create the Folium map\n",
    "latitude = 55.676  # Example latitude\n",
    "longitude = 12.568  # Example longitude\n",
    "zoom_start = 13  # Initial zoom level\n",
    "m = folium.Map(location=[latitude, longitude], zoom_start=zoom_start)\n",
    "\n",
    "# Extract areas and add them as polygons to the map\n",
    "for feature in data['features']:\n",
    "    geometry = sg.asShape(feature['geometry'])\n",
    "    if geometry.geom_type == 'Polygon':\n",
    "        coordinates = [[coord[1], coord[0]] for coord in geometry.exterior.coords[:]]  # Flipping coordinates\n",
    "        folium.Polygon(locations=coordinates, color='green', fill=True, fill_color='green', fill_opacity=0.5).add_to(m)\n",
    "    elif geometry.geom_type == 'MultiPolygon':\n",
    "        for polygon in geometry:\n",
    "            coordinates = [[coord[1], coord[0]] for coord in polygon.exterior.coords[:]]  # Flipping coordinates\n",
    "            folium.Polygon(locations=coordinates, color='green', fill=True, fill_color='green', fill_opacity=0.5).add_to(m)\n",
    "\n",
    "# Display the map\n",
    "m\n"
   ]
  },
  {
   "cell_type": "markdown",
   "metadata": {},
   "source": []
  },
  {
   "cell_type": "code",
   "execution_count": null,
   "metadata": {},
   "outputs": [],
   "source": [
    "#### FØRSTE METODE TIL PERCENTAGE GREEN AREAS\n",
    "\n",
    "import json\n",
    "from shapely.geometry import shape, Polygon\n",
    "\n",
    "# Load neighborhood data\n",
    "with open('bydel.json') as f:\n",
    "    neighborhood_data = json.load(f)\n",
    "\n",
    "# Load green area data\n",
    "with open('arealanvendelse.json') as f:\n",
    "    green_area_data = json.load(f)\n",
    "\n",
    "# Convert neighborhood data to Shapely polygons\n",
    "neighborhood_polygons = [shape(feature['geometry']).buffer(0) for feature in neighborhood_data['features']]\n",
    "\n",
    "# Convert green area data to Shapely polygons\n",
    "green_area_polygons = [shape(feature['geometry']).buffer(0) for feature in green_area_data['features']]\n",
    "\n",
    "# Initialize list to store green area within each neighborhood\n",
    "green_area_within_neighborhoods = []\n",
    "\n",
    "# Calculate area of green spaces within each neighborhood\n",
    "for neighborhood_polygon in neighborhood_polygons:\n",
    "    intersection_area = 0\n",
    "    for green_polygon in green_area_polygons:\n",
    "        intersection = neighborhood_polygon.intersection(green_polygon)\n",
    "        if intersection.is_empty:\n",
    "            continue\n",
    "        if intersection.geom_type == 'Polygon':\n",
    "            intersection_area += intersection.area\n",
    "        elif intersection.geom_type == 'MultiPolygon':\n",
    "            intersection_area += sum(part.area for part in intersection.geoms)\n",
    "            # intersection_area += sum(part.area for part in intersection)\n",
    "    green_area_within_neighborhoods.append(intersection_area)\n",
    "\n",
    "# Calculate total area of each neighborhood\n",
    "neighborhood_areas = [polygon.area for polygon in neighborhood_polygons]\n",
    "\n",
    "# Calculate percentage of green area coverage for each neighborhood\n",
    "percentage_green_area_coverage = [(green_area / neighborhood_area) * 100 \n",
    "                                  for green_area, neighborhood_area in zip(green_area_within_neighborhoods, neighborhood_areas)]\n",
    "\n",
    "# Display results\n",
    "for i, feature in enumerate(neighborhood_data['features']):\n",
    "    neighborhood_name = feature['properties']['navn']\n",
    "    green_coverage_percentage = percentage_green_area_coverage[i]\n",
    "    print(f\"{neighborhood_name}: {green_coverage_percentage:.2f}%\")\n"
   ]
  },
  {
   "cell_type": "markdown",
   "metadata": {},
   "source": []
  }
 ],
 "metadata": {
  "kernelspec": {
   "display_name": "base",
   "language": "python",
   "name": "python3"
  },
  "language_info": {
   "codemirror_mode": {
    "name": "ipython",
    "version": 3
   },
   "file_extension": ".py",
   "mimetype": "text/x-python",
   "name": "python",
   "nbconvert_exporter": "python",
   "pygments_lexer": "ipython3",
   "version": "3.8.5"
  }
 },
 "nbformat": 4,
 "nbformat_minor": 2
}
