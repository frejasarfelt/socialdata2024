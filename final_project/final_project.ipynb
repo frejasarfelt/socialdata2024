{
 "cells": [
  {
   "cell_type": "markdown",
   "metadata": {},
   "source": [
    "# Final project (Family friendly areas)"
   ]
  },
  {
   "cell_type": "markdown",
   "metadata": {},
   "source": [
    "Power Point Presentation:\n",
    "https://docs.google.com/presentation/d/1Oc3iqsFVgtgHwpz6FcuL-zByZpY9n1S3iHdR5MVgRRk/edit?usp=sharing\n",
    "\n",
    "Github Webpage:\n",
    "https://frejasarfelt.github.io/your-copenhagen/\n",
    "\n",
    "Dashboard theme: https://jekyllup.com/themes/hydra-business-jekyll-theme"
   ]
  },
  {
   "cell_type": "markdown",
   "metadata": {},
   "source": [
    "**Header**: Navigating Copenhagen's Neighborhoods: Your Family's Perfect Home"
   ]
  },
  {
   "cell_type": "markdown",
   "metadata": {},
   "source": [
    "## Motivation"
   ]
  },
  {
   "cell_type": "code",
   "execution_count": 8,
   "metadata": {},
   "outputs": [],
   "source": [
    "import pandas as pd\n",
    "df = pd.read_csv('kkorg_enheder_offentlig.csv',delimiter=';')\n",
    "\n"
   ]
  },
  {
   "cell_type": "code",
   "execution_count": 9,
   "metadata": {},
   "outputs": [
    {
     "data": {
      "text/html": [
       "<div>\n",
       "<style scoped>\n",
       "    .dataframe tbody tr th:only-of-type {\n",
       "        vertical-align: middle;\n",
       "    }\n",
       "\n",
       "    .dataframe tbody tr th {\n",
       "        vertical-align: top;\n",
       "    }\n",
       "\n",
       "    .dataframe thead th {\n",
       "        text-align: right;\n",
       "    }\n",
       "</style>\n",
       "<table border=\"1\" class=\"dataframe\">\n",
       "  <thead>\n",
       "    <tr style=\"text-align: right;\">\n",
       "      <th></th>\n",
       "      <th>FID</th>\n",
       "      <th>id</th>\n",
       "      <th>kkorgnr</th>\n",
       "      <th>enhedsnavn</th>\n",
       "      <th>forvaltning</th>\n",
       "      <th>centernavn</th>\n",
       "      <th>enhedstype</th>\n",
       "      <th>ejerforhold</th>\n",
       "      <th>distrikt</th>\n",
       "      <th>koerorgnr</th>\n",
       "      <th>...</th>\n",
       "      <th>alias</th>\n",
       "      <th>primaer</th>\n",
       "      <th>hemmelige</th>\n",
       "      <th>offentlig</th>\n",
       "      <th>lokationsnr</th>\n",
       "      <th>enhedsnr</th>\n",
       "      <th>cvr_branchekode</th>\n",
       "      <th>link_kkorg</th>\n",
       "      <th>ogc_fid</th>\n",
       "      <th>wkb_geometry</th>\n",
       "    </tr>\n",
       "  </thead>\n",
       "  <tbody>\n",
       "    <tr>\n",
       "      <th>0</th>\n",
       "      <td>kkorg_enheder_offentlig.1</td>\n",
       "      <td>300</td>\n",
       "      <td>1885.0</td>\n",
       "      <td>Børnehuset Nørregro</td>\n",
       "      <td>BUF</td>\n",
       "      <td>Område Nørrebro/Bispebjerg</td>\n",
       "      <td>Aldersintegrerede institutioner</td>\n",
       "      <td>Selvejende</td>\n",
       "      <td>Nørrebro-Bispebjerg</td>\n",
       "      <td>35561.0</td>\n",
       "      <td>...</td>\n",
       "      <td>NaN</td>\n",
       "      <td>JA</td>\n",
       "      <td>No</td>\n",
       "      <td>JA</td>\n",
       "      <td>L3678</td>\n",
       "      <td>U458</td>\n",
       "      <td>889150.0</td>\n",
       "      <td>https://kkorg.kk.dk/tree-unit/5ba3c71876989e06...</td>\n",
       "      <td>1</td>\n",
       "      <td>MULTIPOINT ((12.563362570159033 55.69145305667...</td>\n",
       "    </tr>\n",
       "    <tr>\n",
       "      <th>1</th>\n",
       "      <td>kkorg_enheder_offentlig.2</td>\n",
       "      <td>1098</td>\n",
       "      <td>1788.0</td>\n",
       "      <td>Christianshavns Skole</td>\n",
       "      <td>BUF</td>\n",
       "      <td>Område Indre By/Østerbro</td>\n",
       "      <td>Folkeskoler o.lign.</td>\n",
       "      <td>Kommunal</td>\n",
       "      <td>Indre By-Østerbro</td>\n",
       "      <td>31017.0</td>\n",
       "      <td>...</td>\n",
       "      <td>NaN</td>\n",
       "      <td>JA</td>\n",
       "      <td>No</td>\n",
       "      <td>JA</td>\n",
       "      <td>L2001</td>\n",
       "      <td>U629</td>\n",
       "      <td>852010.0</td>\n",
       "      <td>https://kkorg.kk.dk/tree-unit/5ba3c71b76989e06...</td>\n",
       "      <td>2</td>\n",
       "      <td>MULTIPOINT ((12.596374631334031 55.67429497524...</td>\n",
       "    </tr>\n",
       "    <tr>\n",
       "      <th>2</th>\n",
       "      <td>kkorg_enheder_offentlig.3</td>\n",
       "      <td>455</td>\n",
       "      <td>5308.0</td>\n",
       "      <td>Fritidscenter Ydre Valby</td>\n",
       "      <td>BUF</td>\n",
       "      <td>Fagligt Center</td>\n",
       "      <td>Fritids- og ungdomsklubber</td>\n",
       "      <td>Kommunal</td>\n",
       "      <td>Valby-Vesterbro-Kgs. Enghave</td>\n",
       "      <td>37931.0</td>\n",
       "      <td>...</td>\n",
       "      <td>NaN</td>\n",
       "      <td>JA</td>\n",
       "      <td>No</td>\n",
       "      <td>JA</td>\n",
       "      <td>L3691</td>\n",
       "      <td>U193</td>\n",
       "      <td>889160.0</td>\n",
       "      <td>https://kkorg.kk.dk/tree-unit/5ba3c71476989e11...</td>\n",
       "      <td>3</td>\n",
       "      <td>MULTIPOINT ((12.487198464870145 55.65543420276...</td>\n",
       "    </tr>\n",
       "    <tr>\n",
       "      <th>3</th>\n",
       "      <td>kkorg_enheder_offentlig.4</td>\n",
       "      <td>1319</td>\n",
       "      <td>3691.0</td>\n",
       "      <td>Lions Neurocenter - Støtteteam - Hverdagsrehab...</td>\n",
       "      <td>SOF</td>\n",
       "      <td>Borgercenter Handicap</td>\n",
       "      <td>Døgninstitutioner for personer med fysisk hand...</td>\n",
       "      <td>Selvejende</td>\n",
       "      <td>Bispebjerg</td>\n",
       "      <td>64721.0</td>\n",
       "      <td>...</td>\n",
       "      <td>NaN</td>\n",
       "      <td>JA</td>\n",
       "      <td>No</td>\n",
       "      <td>JA</td>\n",
       "      <td>L3740</td>\n",
       "      <td>U2795</td>\n",
       "      <td>873010.0</td>\n",
       "      <td>https://kkorg.kk.dk/tree-unit/5ba3c73f76989e12...</td>\n",
       "      <td>4</td>\n",
       "      <td>MULTIPOINT ((12.541565003528287 55.71794983435...</td>\n",
       "    </tr>\n",
       "    <tr>\n",
       "      <th>4</th>\n",
       "      <td>kkorg_enheder_offentlig.5</td>\n",
       "      <td>95</td>\n",
       "      <td>1794.0</td>\n",
       "      <td>Ministeriernes Børnehus</td>\n",
       "      <td>BUF</td>\n",
       "      <td>Område Indre By/Østerbro</td>\n",
       "      <td>Aldersintegrerede institutioner</td>\n",
       "      <td>Selvejende</td>\n",
       "      <td>Indre By-Østerbro</td>\n",
       "      <td>35236.0</td>\n",
       "      <td>...</td>\n",
       "      <td>NaN</td>\n",
       "      <td>JA</td>\n",
       "      <td>No</td>\n",
       "      <td>JA</td>\n",
       "      <td>L714</td>\n",
       "      <td>U622</td>\n",
       "      <td>889150.0</td>\n",
       "      <td>https://kkorg.kk.dk/tree-unit/5ba3c71b76989e06...</td>\n",
       "      <td>5</td>\n",
       "      <td>MULTIPOINT ((12.578122810728164 55.67292441872...</td>\n",
       "    </tr>\n",
       "  </tbody>\n",
       "</table>\n",
       "<p>5 rows × 60 columns</p>\n",
       "</div>"
      ],
      "text/plain": [
       "                         FID    id  kkorgnr  \\\n",
       "0  kkorg_enheder_offentlig.1   300   1885.0   \n",
       "1  kkorg_enheder_offentlig.2  1098   1788.0   \n",
       "2  kkorg_enheder_offentlig.3   455   5308.0   \n",
       "3  kkorg_enheder_offentlig.4  1319   3691.0   \n",
       "4  kkorg_enheder_offentlig.5    95   1794.0   \n",
       "\n",
       "                                          enhedsnavn forvaltning  \\\n",
       "0                                Børnehuset Nørregro         BUF   \n",
       "1                              Christianshavns Skole         BUF   \n",
       "2                           Fritidscenter Ydre Valby         BUF   \n",
       "3  Lions Neurocenter - Støtteteam - Hverdagsrehab...         SOF   \n",
       "4                            Ministeriernes Børnehus         BUF   \n",
       "\n",
       "                   centernavn  \\\n",
       "0  Område Nørrebro/Bispebjerg   \n",
       "1    Område Indre By/Østerbro   \n",
       "2              Fagligt Center   \n",
       "3       Borgercenter Handicap   \n",
       "4    Område Indre By/Østerbro   \n",
       "\n",
       "                                          enhedstype ejerforhold  \\\n",
       "0                    Aldersintegrerede institutioner  Selvejende   \n",
       "1                                Folkeskoler o.lign.    Kommunal   \n",
       "2                         Fritids- og ungdomsklubber    Kommunal   \n",
       "3  Døgninstitutioner for personer med fysisk hand...  Selvejende   \n",
       "4                    Aldersintegrerede institutioner  Selvejende   \n",
       "\n",
       "                       distrikt  koerorgnr  ...  alias primaer  hemmelige  \\\n",
       "0           Nørrebro-Bispebjerg    35561.0  ...    NaN      JA         No   \n",
       "1             Indre By-Østerbro    31017.0  ...    NaN      JA         No   \n",
       "2  Valby-Vesterbro-Kgs. Enghave    37931.0  ...    NaN      JA         No   \n",
       "3                    Bispebjerg    64721.0  ...    NaN      JA         No   \n",
       "4             Indre By-Østerbro    35236.0  ...    NaN      JA         No   \n",
       "\n",
       "   offentlig lokationsnr enhedsnr cvr_branchekode  \\\n",
       "0         JA       L3678     U458        889150.0   \n",
       "1         JA       L2001     U629        852010.0   \n",
       "2         JA       L3691     U193        889160.0   \n",
       "3         JA       L3740    U2795        873010.0   \n",
       "4         JA        L714     U622        889150.0   \n",
       "\n",
       "                                          link_kkorg  ogc_fid  \\\n",
       "0  https://kkorg.kk.dk/tree-unit/5ba3c71876989e06...        1   \n",
       "1  https://kkorg.kk.dk/tree-unit/5ba3c71b76989e06...        2   \n",
       "2  https://kkorg.kk.dk/tree-unit/5ba3c71476989e11...        3   \n",
       "3  https://kkorg.kk.dk/tree-unit/5ba3c73f76989e12...        4   \n",
       "4  https://kkorg.kk.dk/tree-unit/5ba3c71b76989e06...        5   \n",
       "\n",
       "                                        wkb_geometry  \n",
       "0  MULTIPOINT ((12.563362570159033 55.69145305667...  \n",
       "1  MULTIPOINT ((12.596374631334031 55.67429497524...  \n",
       "2  MULTIPOINT ((12.487198464870145 55.65543420276...  \n",
       "3  MULTIPOINT ((12.541565003528287 55.71794983435...  \n",
       "4  MULTIPOINT ((12.578122810728164 55.67292441872...  \n",
       "\n",
       "[5 rows x 60 columns]"
      ]
     },
     "execution_count": 9,
     "metadata": {},
     "output_type": "execute_result"
    }
   ],
   "source": []
  },
  {
   "cell_type": "markdown",
   "metadata": {},
   "source": [
    "## Basic Stats"
   ]
  },
  {
   "cell_type": "markdown",
   "metadata": {},
   "source": [
    "## Data Analysis"
   ]
  },
  {
   "cell_type": "markdown",
   "metadata": {},
   "source": [
    "## Genre"
   ]
  },
  {
   "cell_type": "markdown",
   "metadata": {},
   "source": [
    "## Visualizations"
   ]
  },
  {
   "cell_type": "markdown",
   "metadata": {},
   "source": [
    "## Discussion"
   ]
  },
  {
   "cell_type": "markdown",
   "metadata": {},
   "source": [
    "## Contributions"
   ]
  },
  {
   "cell_type": "markdown",
   "metadata": {},
   "source": [
    "## References"
   ]
  }
 ],
 "metadata": {
  "kernelspec": {
   "display_name": "Python 3",
   "language": "python",
   "name": "python3"
  },
  "language_info": {
   "codemirror_mode": {
    "name": "ipython",
    "version": 3
   },
   "file_extension": ".py",
   "mimetype": "text/x-python",
   "name": "python",
   "nbconvert_exporter": "python",
   "pygments_lexer": "ipython3",
   "version": "3.8.5"
  }
 },
 "nbformat": 4,
 "nbformat_minor": 2
}
